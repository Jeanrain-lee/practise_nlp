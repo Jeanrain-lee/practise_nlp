{
  "nbformat": 4,
  "nbformat_minor": 0,
  "metadata": {
    "colab": {
      "name": "practise_regular_expression.ipynb",
      "provenance": [],
      "collapsed_sections": [],
      "authorship_tag": "ABX9TyPBBBbqrgs2l41qIhhPOi3+"
    },
    "kernelspec": {
      "name": "python3",
      "display_name": "Python 3"
    }
  },
  "cells": [
    {
      "cell_type": "markdown",
      "metadata": {
        "id": "oWraSTJAoJXl",
        "colab_type": "text"
      },
      "source": [
        "practise_lemmatization에서 언급했던 정규 표현식 학습 </br>\n",
        "참조 :: https://wikidocs.net/21703 </br>\n",
        "# 정규 표현식 (Regular Expression) \n",
        "데이터셋에서 특징을 잡아내 표현식 통해 제거"
      ]
    },
    {
      "cell_type": "code",
      "metadata": {
        "id": "PbhQayBnoFQc",
        "colab_type": "code",
        "colab": {}
      },
      "source": [
        "#1) . \n",
        "import re\n",
        "r = re.compile(\"a.c\")\n",
        "# r.search() :: 문자열 전체에 대해 re와 매치되는지 검색\n",
        "r.search(\"kkk\")  "
      ],
      "execution_count": 0,
      "outputs": []
    },
    {
      "cell_type": "code",
      "metadata": {
        "id": "3w2S907-kspE",
        "colab_type": "code",
        "colab": {
          "base_uri": "https://localhost:8080/",
          "height": 35
        },
        "outputId": "2e6883b0-1a49-43e6-e833-9cffbfb85981"
      },
      "source": [
        "r.search(\"abc\")\n",
        "# => .은 어떤 문자로도 인식될 수 있어서 abc는 a.c RE 패턴으로 매치됨"
      ],
      "execution_count": 2,
      "outputs": [
        {
          "output_type": "execute_result",
          "data": {
            "text/plain": [
              "<_sre.SRE_Match object; span=(0, 3), match='abc'>"
            ]
          },
          "metadata": {
            "tags": []
          },
          "execution_count": 2
        }
      ]
    },
    {
      "cell_type": "code",
      "metadata": {
        "id": "mCGEVl6alCrE",
        "colab_type": "code",
        "colab": {}
      },
      "source": [
        "#2) ?\n",
        "# 앞의 문자가 존재할 수도 존재하지 않을수도\n",
        "# ex) ab?c => abc | ac\n",
        "r=re.compile(\"ab?c\")\n",
        "r.search(\"abbc\")"
      ],
      "execution_count": 0,
      "outputs": []
    },
    {
      "cell_type": "code",
      "metadata": {
        "id": "Af9GEehfq-dU",
        "colab_type": "code",
        "colab": {
          "base_uri": "https://localhost:8080/",
          "height": 35
        },
        "outputId": "dbcd9190-29a9-4716-8b0a-c6655df45f7a"
      },
      "source": [
        "r.search(\"abc\")"
      ],
      "execution_count": 4,
      "outputs": [
        {
          "output_type": "execute_result",
          "data": {
            "text/plain": [
              "<_sre.SRE_Match object; span=(0, 3), match='abc'>"
            ]
          },
          "metadata": {
            "tags": []
          },
          "execution_count": 4
        }
      ]
    },
    {
      "cell_type": "code",
      "metadata": {
        "id": "jEXt9UyYrFhR",
        "colab_type": "code",
        "colab": {
          "base_uri": "https://localhost:8080/",
          "height": 35
        },
        "outputId": "7c60ef4f-c314-4797-e74e-71f2e058398b"
      },
      "source": [
        "r.search(\"ac\")"
      ],
      "execution_count": 5,
      "outputs": [
        {
          "output_type": "execute_result",
          "data": {
            "text/plain": [
              "<_sre.SRE_Match object; span=(0, 2), match='ac'>"
            ]
          },
          "metadata": {
            "tags": []
          },
          "execution_count": 5
        }
      ]
    },
    {
      "cell_type": "code",
      "metadata": {
        "id": "1-s3GkgprLO6",
        "colab_type": "code",
        "colab": {}
      },
      "source": [
        "#3) *\n",
        "# 앞의 문자가 0개 이상\n",
        "r=re.compile(\"ab*c\")\n",
        "r.search(\"a\")\n"
      ],
      "execution_count": 0,
      "outputs": []
    },
    {
      "cell_type": "code",
      "metadata": {
        "id": "56agIGdAsQsE",
        "colab_type": "code",
        "colab": {
          "base_uri": "https://localhost:8080/",
          "height": 35
        },
        "outputId": "1bb0281c-04f0-4c2d-c242-b03c2b165bfd"
      },
      "source": [
        "r.search(\"ac\")"
      ],
      "execution_count": 7,
      "outputs": [
        {
          "output_type": "execute_result",
          "data": {
            "text/plain": [
              "<_sre.SRE_Match object; span=(0, 2), match='ac'>"
            ]
          },
          "metadata": {
            "tags": []
          },
          "execution_count": 7
        }
      ]
    },
    {
      "cell_type": "code",
      "metadata": {
        "id": "SIowc5NdsSyS",
        "colab_type": "code",
        "colab": {
          "base_uri": "https://localhost:8080/",
          "height": 35
        },
        "outputId": "94d192a8-b0ad-4f14-8ffb-ad519690e25b"
      },
      "source": [
        "r.search(\"abbbbbbbbbbbbc\")"
      ],
      "execution_count": 8,
      "outputs": [
        {
          "output_type": "execute_result",
          "data": {
            "text/plain": [
              "<_sre.SRE_Match object; span=(0, 14), match='abbbbbbbbbbbbc'>"
            ]
          },
          "metadata": {
            "tags": []
          },
          "execution_count": 8
        }
      ]
    },
    {
      "cell_type": "code",
      "metadata": {
        "id": "vDy4jXfPsW1n",
        "colab_type": "code",
        "colab": {}
      },
      "source": [
        "#4) +\n",
        "# *와 유사, 하지만 앞의 문자가 최소 1개 이상이어야\n",
        "r=re.compile(\"ab+c\")\n",
        "r.search(\"ac\")"
      ],
      "execution_count": 0,
      "outputs": []
    },
    {
      "cell_type": "code",
      "metadata": {
        "id": "7pPbUa-isnYJ",
        "colab_type": "code",
        "colab": {}
      },
      "source": [
        "#5) ^\n",
        "# 시작되는 글자 지정 ex) ^a : a로 시작되는 문자열\n",
        "r=re.compile(\"^a\")\n",
        "r.search(\"bbc\")"
      ],
      "execution_count": 0,
      "outputs": []
    },
    {
      "cell_type": "code",
      "metadata": {
        "id": "KH2_VL4Ptwml",
        "colab_type": "code",
        "colab": {
          "base_uri": "https://localhost:8080/",
          "height": 35
        },
        "outputId": "377ab77c-0466-4525-a77e-420303610336"
      },
      "source": [
        "r.search(\"ab\")"
      ],
      "execution_count": 11,
      "outputs": [
        {
          "output_type": "execute_result",
          "data": {
            "text/plain": [
              "<_sre.SRE_Match object; span=(0, 1), match='a'>"
            ]
          },
          "metadata": {
            "tags": []
          },
          "execution_count": 11
        }
      ]
    },
    {
      "cell_type": "code",
      "metadata": {
        "id": "7YLwUfzGtzyu",
        "colab_type": "code",
        "colab": {}
      },
      "source": [
        "#6) 기호 {숫자} = 기호 * {숫자} 만큼 반복\n",
        "r=re.compile(\"ab{3}c\")\n",
        "r.search(\"abc\")"
      ],
      "execution_count": 0,
      "outputs": []
    },
    {
      "cell_type": "code",
      "metadata": {
        "id": "OHRpu65guaXx",
        "colab_type": "code",
        "colab": {
          "base_uri": "https://localhost:8080/",
          "height": 35
        },
        "outputId": "b6d2bb97-2963-4362-912b-d5ac7e57af94"
      },
      "source": [
        "r.search(\"abbbc\")"
      ],
      "execution_count": 13,
      "outputs": [
        {
          "output_type": "execute_result",
          "data": {
            "text/plain": [
              "<_sre.SRE_Match object; span=(0, 5), match='abbbc'>"
            ]
          },
          "metadata": {
            "tags": []
          },
          "execution_count": 13
        }
      ]
    },
    {
      "cell_type": "code",
      "metadata": {
        "id": "EzrPRsFmuh0x",
        "colab_type": "code",
        "colab": {}
      },
      "source": [
        "#7) 기호 {숫자1, 숫자2} = 해당 문자를 숫자1이상 숫자2 이하만큼 반복\n",
        "r=re.compile(\"ab{2,8}c\") # {} 숫자 사이 띄어쓰기 주의\n",
        "r.search(\"ac\")"
      ],
      "execution_count": 0,
      "outputs": []
    },
    {
      "cell_type": "code",
      "metadata": {
        "id": "k3jT93oDvG9Z",
        "colab_type": "code",
        "colab": {
          "base_uri": "https://localhost:8080/",
          "height": 35
        },
        "outputId": "f9e3068c-334b-4d1a-c4ca-4d4dfe25f8cf"
      },
      "source": [
        "r.search(\"abbbc\")"
      ],
      "execution_count": 21,
      "outputs": [
        {
          "output_type": "execute_result",
          "data": {
            "text/plain": [
              "<_sre.SRE_Match object; span=(0, 5), match='abbbc'>"
            ]
          },
          "metadata": {
            "tags": []
          },
          "execution_count": 21
        }
      ]
    },
    {
      "cell_type": "code",
      "metadata": {
        "id": "Q-AjOpP2vO_0",
        "colab_type": "code",
        "colab": {}
      },
      "source": [
        "#8) {숫자,} 기호 => 해당 문자 숫자 이상 반복\n",
        "r=re.compile(\"a{2,}bc\")\n",
        "r.search(\"bc\")"
      ],
      "execution_count": 0,
      "outputs": []
    },
    {
      "cell_type": "code",
      "metadata": {
        "id": "5ayfV9Y3wad_",
        "colab_type": "code",
        "colab": {
          "base_uri": "https://localhost:8080/",
          "height": 35
        },
        "outputId": "c434cc41-cefe-4bfb-f584-7bf9f5e15d21"
      },
      "source": [
        "r.search(\"aabc\")"
      ],
      "execution_count": 24,
      "outputs": [
        {
          "output_type": "execute_result",
          "data": {
            "text/plain": [
              "<_sre.SRE_Match object; span=(0, 4), match='aabc'>"
            ]
          },
          "metadata": {
            "tags": []
          },
          "execution_count": 24
        }
      ]
    },
    {
      "cell_type": "code",
      "metadata": {
        "id": "jzWprJdu40pe",
        "colab_type": "code",
        "colab": {}
      },
      "source": [
        "#9) [문자]\n",
        "# 문자들 중 한 개의 문자와 매치\n",
        "#[a-zA-Z] : 알파벳 전부 [0-9] : 숫자 전부\n",
        "r=re.compile(\"[abc]\")\n",
        "r.search(\"zzz\")"
      ],
      "execution_count": 0,
      "outputs": []
    },
    {
      "cell_type": "code",
      "metadata": {
        "id": "e-5GbePD6HLn",
        "colab_type": "code",
        "colab": {
          "base_uri": "https://localhost:8080/",
          "height": 35
        },
        "outputId": "8645aa53-dfc8-4e2d-ae67-d0aea7ea9064"
      },
      "source": [
        "r.search(\"aaaa\")"
      ],
      "execution_count": 26,
      "outputs": [
        {
          "output_type": "execute_result",
          "data": {
            "text/plain": [
              "<_sre.SRE_Match object; span=(0, 1), match='a'>"
            ]
          },
          "metadata": {
            "tags": []
          },
          "execution_count": 26
        }
      ]
    },
    {
      "cell_type": "code",
      "metadata": {
        "id": "8hmLLdOu6cQX",
        "colab_type": "code",
        "colab": {}
      },
      "source": [
        "r=re.compile(\"[a-z]\")\n",
        "r.search(\"AAA\")"
      ],
      "execution_count": 0,
      "outputs": []
    },
    {
      "cell_type": "code",
      "metadata": {
        "id": "SHhh3Vht6lqx",
        "colab_type": "code",
        "colab": {
          "base_uri": "https://localhost:8080/",
          "height": 35
        },
        "outputId": "97866633-c187-45f9-c130-77ffa447b9da"
      },
      "source": [
        "r.search(\"aBC\")"
      ],
      "execution_count": 28,
      "outputs": [
        {
          "output_type": "execute_result",
          "data": {
            "text/plain": [
              "<_sre.SRE_Match object; span=(0, 1), match='a'>"
            ]
          },
          "metadata": {
            "tags": []
          },
          "execution_count": 28
        }
      ]
    },
    {
      "cell_type": "code",
      "metadata": {
        "id": "Jviv6ned6pv1",
        "colab_type": "code",
        "colab": {}
      },
      "source": [
        "#10) [^문자] => ^ 뒤에 붙은 문자들을 제외한 모든 문자 매치\n",
        "r=re.compile(\"[^abc]\")\n",
        "r.search(\"a\")"
      ],
      "execution_count": 0,
      "outputs": []
    },
    {
      "cell_type": "code",
      "metadata": {
        "id": "YdckNpob8ODM",
        "colab_type": "code",
        "colab": {
          "base_uri": "https://localhost:8080/",
          "height": 35
        },
        "outputId": "6dd929e2-c0cd-47f7-abe4-1d82c4e7718d"
      },
      "source": [
        "r.search(\"d\")"
      ],
      "execution_count": 30,
      "outputs": [
        {
          "output_type": "execute_result",
          "data": {
            "text/plain": [
              "<_sre.SRE_Match object; span=(0, 1), match='d'>"
            ]
          },
          "metadata": {
            "tags": []
          },
          "execution_count": 30
        }
      ]
    },
    {
      "cell_type": "code",
      "metadata": {
        "id": "Eoo_-FlX8PcJ",
        "colab_type": "code",
        "colab": {}
      },
      "source": [
        ""
      ],
      "execution_count": 0,
      "outputs": []
    }
  ]
}