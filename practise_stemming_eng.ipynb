{
  "nbformat": 4,
  "nbformat_minor": 0,
  "metadata": {
    "colab": {
      "name": "practise_stemming_eng.ipynb",
      "provenance": [],
      "collapsed_sections": [],
      "authorship_tag": "ABX9TyNpSxfKCqkyW61r3VaK4I6Z"
    },
    "kernelspec": {
      "name": "python3",
      "display_name": "Python 3"
    }
  },
  "cells": [
    {
      "cell_type": "markdown",
      "metadata": {
        "id": "Tdd9WU-tEsih",
        "colab_type": "text"
      },
      "source": [
        "# stemming \n",
        "=> 어간 추출, 작업이 rough하므로 결과 단어가 사전에 존재하지 않을 수 있음 </br>\n",
        "참조 :: https://wikidocs.net/21707"
      ]
    },
    {
      "cell_type": "markdown",
      "metadata": {
        "id": "lx8W-q-OQ_ZZ",
        "colab_type": "text"
      },
      "source": [
        "**Porter Algorithm**\n"
      ]
    },
    {
      "cell_type": "code",
      "metadata": {
        "id": "2rgsKdEfTc5D",
        "colab_type": "code",
        "colab": {
          "base_uri": "https://localhost:8080/",
          "height": 71
        },
        "outputId": "473599e2-d7fb-4050-b9f4-73f97f0e5013"
      },
      "source": [
        "import nltk\n",
        "nltk.download('punkt')"
      ],
      "execution_count": 2,
      "outputs": [
        {
          "output_type": "stream",
          "text": [
            "[nltk_data] Downloading package punkt to /root/nltk_data...\n",
            "[nltk_data]   Unzipping tokenizers/punkt.zip.\n"
          ],
          "name": "stdout"
        },
        {
          "output_type": "execute_result",
          "data": {
            "text/plain": [
              "True"
            ]
          },
          "metadata": {
            "tags": []
          },
          "execution_count": 2
        }
      ]
    },
    {
      "cell_type": "code",
      "metadata": {
        "id": "EZr0EWBWEr7n",
        "colab_type": "code",
        "colab": {
          "base_uri": "https://localhost:8080/",
          "height": 55
        },
        "outputId": "578a3a71-29f1-4b79-d07f-31f7f4a72547"
      },
      "source": [
        "from nltk.stem import PorterStemmer\n",
        "from nltk.tokenize import word_tokenize\n",
        "s = PorterStemmer()\n",
        "text = \"This was not the map we found in Billy Bones's chest, but an accurate copy, complete in all things--names and heights and soundings--with the single exception of the red crosses and the written notes.\"\n",
        "words = word_tokenize(text)\n",
        "print(words)"
      ],
      "execution_count": 4,
      "outputs": [
        {
          "output_type": "stream",
          "text": [
            "['This', 'was', 'not', 'the', 'map', 'we', 'found', 'in', 'Billy', 'Bones', \"'s\", 'chest', ',', 'but', 'an', 'accurate', 'copy', ',', 'complete', 'in', 'all', 'things', '--', 'names', 'and', 'heights', 'and', 'soundings', '--', 'with', 'the', 'single', 'exception', 'of', 'the', 'red', 'crosses', 'and', 'the', 'written', 'notes', '.']\n"
          ],
          "name": "stdout"
        }
      ]
    },
    {
      "cell_type": "code",
      "metadata": {
        "id": "32TTy-t5EaWa",
        "colab_type": "code",
        "colab": {
          "base_uri": "https://localhost:8080/",
          "height": 55
        },
        "outputId": "37b80356-f323-434d-8e75-9c6600e25f95"
      },
      "source": [
        "# 포터 알고리즘 적용 후에는 사전에 없는 단어들도 추가됨, rough한 결과\n",
        "print([s.stem(w) for w in words])"
      ],
      "execution_count": 5,
      "outputs": [
        {
          "output_type": "stream",
          "text": [
            "['thi', 'wa', 'not', 'the', 'map', 'we', 'found', 'in', 'billi', 'bone', \"'s\", 'chest', ',', 'but', 'an', 'accur', 'copi', ',', 'complet', 'in', 'all', 'thing', '--', 'name', 'and', 'height', 'and', 'sound', '--', 'with', 'the', 'singl', 'except', 'of', 'the', 'red', 'cross', 'and', 'the', 'written', 'note', '.']\n"
          ],
          "name": "stdout"
        }
      ]
    },
    {
      "cell_type": "code",
      "metadata": {
        "id": "5dE_VqhWVjam",
        "colab_type": "code",
        "colab": {
          "base_uri": "https://localhost:8080/",
          "height": 35
        },
        "outputId": "2bab3385-5402-45b6-cfe8-ebf507958528"
      },
      "source": [
        "# another example\n",
        "words = ['similarize', 'electricical', 'allowance']\n",
        "print([s.stem(w) for w in words])\n",
        "# 포터 알고리즘은 ALIZE => AL, ANCE => 제거 , ICAL => IC 의 규칙을 가짐"
      ],
      "execution_count": 9,
      "outputs": [
        {
          "output_type": "stream",
          "text": [
            "['similar', 'electric', 'allow']\n"
          ],
          "name": "stdout"
        }
      ]
    },
    {
      "cell_type": "markdown",
      "metadata": {
        "id": "nAC2tt9qWnGe",
        "colab_type": "text"
      },
      "source": [
        "˙ stemming은 lemmatization보다 일반적으로 빠름 </br>\n",
        "˙ 포터는 정확도가 준수, 영어 nlp에서 어간추출을 한다면 good </br>\n",
        "˙ porter와 Lancaster 알고리즘 비교"
      ]
    },
    {
      "cell_type": "code",
      "metadata": {
        "id": "0wLSUz4qWGML",
        "colab_type": "code",
        "colab": {
          "base_uri": "https://localhost:8080/",
          "height": 35
        },
        "outputId": "57a74545-59b0-4401-ab49-0d5f36c982f9"
      },
      "source": [
        "words2 = ['policy', 'doing', 'organization', 'have', 'going', 'love', 'lives', 'fly', 'dies', 'watched', 'has', 'starting']\n",
        "print([s.stem(w) for w in words2])"
      ],
      "execution_count": 11,
      "outputs": [
        {
          "output_type": "stream",
          "text": [
            "['polici', 'do', 'organ', 'have', 'go', 'love', 'live', 'fli', 'die', 'watch', 'ha', 'start']\n"
          ],
          "name": "stdout"
        }
      ]
    },
    {
      "cell_type": "code",
      "metadata": {
        "id": "Dgvn-r5bXK76",
        "colab_type": "code",
        "colab": {
          "base_uri": "https://localhost:8080/",
          "height": 35
        },
        "outputId": "8b0289d9-42ae-4575-d8c7-002b8e106c32"
      },
      "source": [
        "from nltk.stem import LancasterStemmer\n",
        "l = LancasterStemmer()\n",
        "print([l.stem(w) for w in words2])"
      ],
      "execution_count": 12,
      "outputs": [
        {
          "output_type": "stream",
          "text": [
            "['policy', 'doing', 'org', 'hav', 'going', 'lov', 'liv', 'fly', 'die', 'watch', 'has', 'start']\n"
          ],
          "name": "stdout"
        }
      ]
    }
  ]
}