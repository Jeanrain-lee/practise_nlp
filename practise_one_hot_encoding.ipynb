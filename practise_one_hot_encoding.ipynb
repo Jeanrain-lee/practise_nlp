{
  "nbformat": 4,
  "nbformat_minor": 0,
  "metadata": {
    "colab": {
      "name": "practise_one_hot_encoding.ipynb",
      "provenance": [],
      "authorship_tag": "ABX9TyOPLsRLs6butvEXCDtG0V4Z"
    },
    "kernelspec": {
      "name": "python3",
      "display_name": "Python 3"
    }
  },
  "cells": [
    {
      "cell_type": "markdown",
      "metadata": {
        "id": "owXHF9ixwxZ8",
        "colab_type": "text"
      },
      "source": [
        "**단어 집합(vocabulary)** </br>\n",
        ": 서로 다른 단어들의 집합 (즉 중복 x) </br>\n",
        "=> apple / apples 처럼 형태가 다르면 다른 단어로 간주됨 </br>\n",
        "\n",
        "# One-hot Encoding\n",
        ": 문자를 숫자로 바꾸는 여러가지 기법 중 가장 기본적인 방법 </br>\n",
        "=> 단어 집합을 만들고, 정수 인코딩 후 </br>\n",
        "=> 단어 집합의 크기를 벡터 차원으로 한 뒤 표현 하고 싶은 단어 인덱스에 1, 나머지에는 0 </br>\n",
        ": 이렇게 표현된 벡터 : one-hot vector\n",
        "\n",
        "\n",
        "\n",
        "\n",
        "\n"
      ]
    },
    {
      "cell_type": "code",
      "metadata": {
        "id": "E4zvSDDr1eDl",
        "colab_type": "code",
        "colab": {
          "base_uri": "https://localhost:8080/",
          "height": 593
        },
        "outputId": "d10d7837-71f7-408b-8ca2-7a92fd60254d"
      },
      "source": [
        "pip install konlpy "
      ],
      "execution_count": 3,
      "outputs": [
        {
          "output_type": "stream",
          "text": [
            "Collecting konlpy\n",
            "\u001b[?25l  Downloading https://files.pythonhosted.org/packages/85/0e/f385566fec837c0b83f216b2da65db9997b35dd675e107752005b7d392b1/konlpy-0.5.2-py2.py3-none-any.whl (19.4MB)\n",
            "\u001b[K     |████████████████████████████████| 19.4MB 1.2MB/s \n",
            "\u001b[?25hCollecting tweepy>=3.7.0\n",
            "  Downloading https://files.pythonhosted.org/packages/36/1b/2bd38043d22ade352fc3d3902cf30ce0e2f4bf285be3b304a2782a767aec/tweepy-3.8.0-py2.py3-none-any.whl\n",
            "Requirement already satisfied: lxml>=4.1.0 in /usr/local/lib/python3.6/dist-packages (from konlpy) (4.2.6)\n",
            "Requirement already satisfied: numpy>=1.6 in /usr/local/lib/python3.6/dist-packages (from konlpy) (1.18.2)\n",
            "Collecting beautifulsoup4==4.6.0\n",
            "\u001b[?25l  Downloading https://files.pythonhosted.org/packages/9e/d4/10f46e5cfac773e22707237bfcd51bbffeaf0a576b0a847ec7ab15bd7ace/beautifulsoup4-4.6.0-py3-none-any.whl (86kB)\n",
            "\u001b[K     |████████████████████████████████| 92kB 12.8MB/s \n",
            "\u001b[?25hCollecting JPype1>=0.7.0\n",
            "\u001b[?25l  Downloading https://files.pythonhosted.org/packages/d7/3c/1dbe5d6943b5c68e8df17c8b3a05db4725eadb5c7b7de437506aa3030701/JPype1-0.7.2-cp36-cp36m-manylinux1_x86_64.whl (2.4MB)\n",
            "\u001b[K     |████████████████████████████████| 2.4MB 45.6MB/s \n",
            "\u001b[?25hCollecting colorama\n",
            "  Downloading https://files.pythonhosted.org/packages/c9/dc/45cdef1b4d119eb96316b3117e6d5708a08029992b2fee2c143c7a0a5cc5/colorama-0.4.3-py2.py3-none-any.whl\n",
            "Requirement already satisfied: requests>=2.11.1 in /usr/local/lib/python3.6/dist-packages (from tweepy>=3.7.0->konlpy) (2.21.0)\n",
            "Requirement already satisfied: six>=1.10.0 in /usr/local/lib/python3.6/dist-packages (from tweepy>=3.7.0->konlpy) (1.12.0)\n",
            "Requirement already satisfied: requests-oauthlib>=0.7.0 in /usr/local/lib/python3.6/dist-packages (from tweepy>=3.7.0->konlpy) (1.3.0)\n",
            "Requirement already satisfied: PySocks>=1.5.7 in /usr/local/lib/python3.6/dist-packages (from tweepy>=3.7.0->konlpy) (1.7.1)\n",
            "Requirement already satisfied: certifi>=2017.4.17 in /usr/local/lib/python3.6/dist-packages (from requests>=2.11.1->tweepy>=3.7.0->konlpy) (2019.11.28)\n",
            "Requirement already satisfied: idna<2.9,>=2.5 in /usr/local/lib/python3.6/dist-packages (from requests>=2.11.1->tweepy>=3.7.0->konlpy) (2.8)\n",
            "Requirement already satisfied: urllib3<1.25,>=1.21.1 in /usr/local/lib/python3.6/dist-packages (from requests>=2.11.1->tweepy>=3.7.0->konlpy) (1.24.3)\n",
            "Requirement already satisfied: chardet<3.1.0,>=3.0.2 in /usr/local/lib/python3.6/dist-packages (from requests>=2.11.1->tweepy>=3.7.0->konlpy) (3.0.4)\n",
            "Requirement already satisfied: oauthlib>=3.0.0 in /usr/local/lib/python3.6/dist-packages (from requests-oauthlib>=0.7.0->tweepy>=3.7.0->konlpy) (3.1.0)\n",
            "Installing collected packages: tweepy, beautifulsoup4, JPype1, colorama, konlpy\n",
            "  Found existing installation: tweepy 3.6.0\n",
            "    Uninstalling tweepy-3.6.0:\n",
            "      Successfully uninstalled tweepy-3.6.0\n",
            "  Found existing installation: beautifulsoup4 4.6.3\n",
            "    Uninstalling beautifulsoup4-4.6.3:\n",
            "      Successfully uninstalled beautifulsoup4-4.6.3\n",
            "Successfully installed JPype1-0.7.2 beautifulsoup4-4.6.0 colorama-0.4.3 konlpy-0.5.2 tweepy-3.8.0\n"
          ],
          "name": "stdout"
        }
      ]
    },
    {
      "cell_type": "code",
      "metadata": {
        "id": "WkkGHAsgvg2Q",
        "colab_type": "code",
        "colab": {
          "base_uri": "https://localhost:8080/",
          "height": 35
        },
        "outputId": "d7588336-3345-4282-b693-0a1fe79a9320"
      },
      "source": [
        "from konlpy.tag import Okt \n",
        "okt = Okt()\n",
        "token=okt.morphs(\"나는 자연어 처리를 배운다\")\n",
        "print(token)"
      ],
      "execution_count": 4,
      "outputs": [
        {
          "output_type": "stream",
          "text": [
            "['나', '는', '자연어', '처리', '를', '배운다']\n"
          ],
          "name": "stdout"
        }
      ]
    },
    {
      "cell_type": "code",
      "metadata": {
        "id": "pmyOu0Fa1ReK",
        "colab_type": "code",
        "colab": {
          "base_uri": "https://localhost:8080/",
          "height": 35
        },
        "outputId": "ad4ded8b-c822-4086-9784-3faea3c6c5d7"
      },
      "source": [
        "word2index={}\n",
        "for voca in token:\n",
        "  if voca not in word2index.keys():\n",
        "    word2index[voca]=len(word2index) # 각 토큰에 고유 인덱스 부여\n",
        "print(word2index)"
      ],
      "execution_count": 5,
      "outputs": [
        {
          "output_type": "stream",
          "text": [
            "{'나': 0, '는': 1, '자연어': 2, '처리': 3, '를': 4, '배운다': 5}\n"
          ],
          "name": "stdout"
        }
      ]
    },
    {
      "cell_type": "code",
      "metadata": {
        "id": "hq7iKFTm2hd6",
        "colab_type": "code",
        "colab": {}
      },
      "source": [
        "# 단어 입력 시 해당 단어에 대한 원-핫 벡터 만드는 함수\n",
        "def one_hot_encoding(word, word2index):\n",
        "  one_hot_vector = [0] * (len(word2index))\n",
        "  index=word2index[word]\n",
        "  one_hot_vector[index]=1\n",
        "  return one_hot_vector"
      ],
      "execution_count": 0,
      "outputs": []
    },
    {
      "cell_type": "code",
      "metadata": {
        "id": "wRO1DDt230QP",
        "colab_type": "code",
        "colab": {
          "base_uri": "https://localhost:8080/",
          "height": 35
        },
        "outputId": "514c2d25-1683-43d4-fa7d-5ae58ee17207"
      },
      "source": [
        "one_hot_encoding(\"자연어\", word2index)"
      ],
      "execution_count": 7,
      "outputs": [
        {
          "output_type": "execute_result",
          "data": {
            "text/plain": [
              "[0, 0, 1, 0, 0, 0]"
            ]
          },
          "metadata": {
            "tags": []
          },
          "execution_count": 7
        }
      ]
    },
    {
      "cell_type": "markdown",
      "metadata": {
        "id": "Q_aIkC6x5Ezq",
        "colab_type": "text"
      },
      "source": [
        "# keras 이용한 One-hot encoding"
      ]
    },
    {
      "cell_type": "code",
      "metadata": {
        "id": "r43mH_XD33gW",
        "colab_type": "code",
        "colab": {}
      },
      "source": [
        "text=\"내 방은 파란 벽지 파란 벽지와 어울리지 않는 검은 책상 검은 책상에는 나름 어울리는 하얀 책장\""
      ],
      "execution_count": 0,
      "outputs": []
    },
    {
      "cell_type": "code",
      "metadata": {
        "id": "t0jL13sO5kYq",
        "colab_type": "code",
        "colab": {
          "base_uri": "https://localhost:8080/",
          "height": 35
        },
        "outputId": "22228c2f-9918-457b-f1ae-313421a74a1d"
      },
      "source": [
        "from tensorflow.keras.preprocessing.text import Tokenizer\n",
        "from tensorflow.keras.utils import to_categorical \n",
        "t = Tokenizer()\n",
        "t.fit_on_texts([text])\n",
        "print(t.word_index)"
      ],
      "execution_count": 9,
      "outputs": [
        {
          "output_type": "stream",
          "text": [
            "{'파란': 1, '검은': 2, '내': 3, '방은': 4, '벽지': 5, '벽지와': 6, '어울리지': 7, '않는': 8, '책상': 9, '책상에는': 10, '나름': 11, '어울리는': 12, '하얀': 13, '책장': 14}\n"
          ],
          "name": "stdout"
        }
      ]
    },
    {
      "cell_type": "code",
      "metadata": {
        "id": "84CsOJkV5w8i",
        "colab_type": "code",
        "colab": {
          "base_uri": "https://localhost:8080/",
          "height": 35
        },
        "outputId": "fffa5bc2-0423-4a24-a2a5-2efa2937870c"
      },
      "source": [
        "sub_texts=\"검은 벽지와 어울리는 하얀 책상\"\n",
        "encoded=t.texts_to_sequences([sub_texts])[0]\n",
        "print(encoded)"
      ],
      "execution_count": 12,
      "outputs": [
        {
          "output_type": "stream",
          "text": [
            "[2, 6, 12, 13, 9]\n"
          ],
          "name": "stdout"
        }
      ]
    },
    {
      "cell_type": "code",
      "metadata": {
        "id": "UaODvBHV6ZxX",
        "colab_type": "code",
        "colab": {
          "base_uri": "https://localhost:8080/",
          "height": 107
        },
        "outputId": "f40fbb43-6918-4d83-8fed-904542964976"
      },
      "source": [
        "one_hot = to_categorical(encoded)\n",
        "print(one_hot)"
      ],
      "execution_count": 13,
      "outputs": [
        {
          "output_type": "stream",
          "text": [
            "[[0. 0. 1. 0. 0. 0. 0. 0. 0. 0. 0. 0. 0. 0.]\n",
            " [0. 0. 0. 0. 0. 0. 1. 0. 0. 0. 0. 0. 0. 0.]\n",
            " [0. 0. 0. 0. 0. 0. 0. 0. 0. 0. 0. 0. 1. 0.]\n",
            " [0. 0. 0. 0. 0. 0. 0. 0. 0. 0. 0. 0. 0. 1.]\n",
            " [0. 0. 0. 0. 0. 0. 0. 0. 0. 1. 0. 0. 0. 0.]]\n"
          ],
          "name": "stdout"
        }
      ]
    },
    {
      "cell_type": "markdown",
      "metadata": {
        "id": "grw5CgbQ68XA",
        "colab_type": "text"
      },
      "source": [
        "=> 단어의 개수가 늘어날수록 벡터 저장에 필요한 공간도 늘어남(벡터의 차원이 계속 늘어남) => 비효율적 저장공간 사용 </br>\n",
        "=> 단어의 유사도 표현 힘들다는 단점 (검색 시스템에서 심각한 문제) </br>\n",
        "=> 이러한 단점들 해결 위해 단어의 잠재적 뜻 파악 후 다차원 공간에 벡터화하는 기법 크게 2가지 (카운트 기반 | 예측 기반 | 두 가지 모두 사용하는 GloVe)"
      ]
    }
  ]
}