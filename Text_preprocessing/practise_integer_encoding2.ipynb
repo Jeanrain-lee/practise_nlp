{
  "nbformat": 4,
  "nbformat_minor": 0,
  "metadata": {
    "colab": {
      "name": "practise_integer_encoding2.ipynb",
      "provenance": [],
      "authorship_tag": "ABX9TyN9rrV2VkkDLZagGdK0ku2H"
    },
    "kernelspec": {
      "name": "python3",
      "display_name": "Python 3"
    }
  },
  "cells": [
    {
      "cell_type": "markdown",
      "metadata": {
        "id": "23EVAc77UJiQ",
        "colab_type": "text"
      },
      "source": [
        "˙ practise_integer_encoding1 에 이어서 </br>\n",
        "=> 정수 인코딩에 Counter, FreqDist, enumerate, keras tokenizer 사용 </br>\n",
        "참조 : https://wikidocs.net/31766"
      ]
    },
    {
      "cell_type": "code",
      "metadata": {
        "id": "OWcLlimFXdlB",
        "colab_type": "code",
        "colab": {
          "base_uri": "https://localhost:8080/",
          "height": 107
        },
        "outputId": "3d3ec05e-e094-44bd-e097-1dc7519a3ebf"
      },
      "source": [
        "import nltk\n",
        "nltk.download('punkt')\n",
        "nltk.download('stopwords')"
      ],
      "execution_count": 5,
      "outputs": [
        {
          "output_type": "stream",
          "text": [
            "[nltk_data] Downloading package punkt to /root/nltk_data...\n",
            "[nltk_data]   Package punkt is already up-to-date!\n",
            "[nltk_data] Downloading package stopwords to /root/nltk_data...\n",
            "[nltk_data]   Unzipping corpora/stopwords.zip.\n"
          ],
          "name": "stdout"
        },
        {
          "output_type": "execute_result",
          "data": {
            "text/plain": [
              "True"
            ]
          },
          "metadata": {
            "tags": []
          },
          "execution_count": 5
        }
      ]
    },
    {
      "cell_type": "code",
      "metadata": {
        "id": "w40-f1hbSysI",
        "colab_type": "code",
        "colab": {
          "base_uri": "https://localhost:8080/",
          "height": 55
        },
        "outputId": "a472b302-c937-4cba-9ecf-4961eb766fef"
      },
      "source": [
        "from collections import Counter\n",
        "from nltk.tokenize import sent_tokenize\n",
        "from nltk.tokenize import word_tokenize\n",
        "from nltk.corpus import stopwords\n",
        "\n",
        "texts = \"A barber is a person. a barber is good person. a barber is huge person. he Knew A Secret! The Secret He Kept is huge secret. Huge secret. His barber kept his word. a barber kept his word. His barber kept his secret. But keeping and keeping such a huge secret to himself was driving the barber crazy. the barber went up a huge mountain.\"\n",
        "texts=sent_tokenize(texts) # 문장 토큰화\n",
        "vocab = {} \n",
        "sentences = []\n",
        "stop_words = set(stopwords.words('english'))\n",
        "for i in texts:\n",
        "    sentence = word_tokenize(i) # 단어 토큰화\n",
        "    result = []\n",
        "\n",
        "    for word in sentence: \n",
        "        word = word.lower() \n",
        "        if word not in stop_words: \n",
        "            if len(word) > 2: \n",
        "                result.append(word)\n",
        "                if word not in vocab:\n",
        "                    vocab[word] = 0 \n",
        "                vocab[word] += 1\n",
        "    sentences.append(result) \n",
        "print(sentences)\n"
      ],
      "execution_count": 7,
      "outputs": [
        {
          "output_type": "stream",
          "text": [
            "[['barber', 'person'], ['barber', 'good', 'person'], ['barber', 'huge', 'person'], ['knew', 'secret'], ['secret', 'kept', 'huge', 'secret'], ['huge', 'secret'], ['barber', 'kept', 'word'], ['barber', 'kept', 'word'], ['barber', 'kept', 'secret'], ['keeping', 'keeping', 'huge', 'secret', 'driving', 'barber', 'crazy'], ['barber', 'went', 'huge', 'mountain']]\n"
          ],
          "name": "stdout"
        }
      ]
    },
    {
      "cell_type": "code",
      "metadata": {
        "id": "avmvXzO_XYog",
        "colab_type": "code",
        "colab": {
          "base_uri": "https://localhost:8080/",
          "height": 55
        },
        "outputId": "5f9e9bd2-02fa-4c5a-ecd5-bda99ca2bbae"
      },
      "source": [
        "# vocab list를 만들기 위해 ','제거\n",
        "words = sum(sentences, [])\n",
        "print(words)"
      ],
      "execution_count": 8,
      "outputs": [
        {
          "output_type": "stream",
          "text": [
            "['barber', 'person', 'barber', 'good', 'person', 'barber', 'huge', 'person', 'knew', 'secret', 'secret', 'kept', 'huge', 'secret', 'huge', 'secret', 'barber', 'kept', 'word', 'barber', 'kept', 'word', 'barber', 'kept', 'secret', 'keeping', 'keeping', 'huge', 'secret', 'driving', 'barber', 'crazy', 'barber', 'went', 'huge', 'mountain']\n"
          ],
          "name": "stdout"
        }
      ]
    },
    {
      "cell_type": "code",
      "metadata": {
        "id": "HmUoejoxYmI0",
        "colab_type": "code",
        "colab": {
          "base_uri": "https://localhost:8080/",
          "height": 73
        },
        "outputId": "3b2e26e5-f482-41bc-e691-6f63e830cf43"
      },
      "source": [
        "# python COunter로 중복 제거 후 빈도 수 기록\n",
        "vocab = Counter(words)\n",
        "print(vocab)\n",
        "vocab[\"barber\"]"
      ],
      "execution_count": 10,
      "outputs": [
        {
          "output_type": "stream",
          "text": [
            "Counter({'barber': 8, 'secret': 6, 'huge': 5, 'kept': 4, 'person': 3, 'word': 2, 'keeping': 2, 'good': 1, 'knew': 1, 'driving': 1, 'crazy': 1, 'went': 1, 'mountain': 1})\n"
          ],
          "name": "stdout"
        },
        {
          "output_type": "execute_result",
          "data": {
            "text/plain": [
              "8"
            ]
          },
          "metadata": {
            "tags": []
          },
          "execution_count": 10
        }
      ]
    },
    {
      "cell_type": "code",
      "metadata": {
        "id": "MT50SvrxYvDu",
        "colab_type": "code",
        "colab": {
          "base_uri": "https://localhost:8080/",
          "height": 35
        },
        "outputId": "f8f77f2f-1160-49f1-c958-de7676c2226b"
      },
      "source": [
        "# 출현 빈도 상위 5개만 단어 리스트 save\n",
        "vocab_size = 5\n",
        "vocab = vocab.most_common(vocab_size) # most_common : 상위 빈도수를 가진 주어진 수의 단어만 리턴\n",
        "vocab"
      ],
      "execution_count": 11,
      "outputs": [
        {
          "output_type": "execute_result",
          "data": {
            "text/plain": [
              "[('barber', 8), ('secret', 6), ('huge', 5), ('kept', 4), ('person', 3)]"
            ]
          },
          "metadata": {
            "tags": []
          },
          "execution_count": 11
        }
      ]
    },
    {
      "cell_type": "code",
      "metadata": {
        "id": "0KJndefpZCeN",
        "colab_type": "code",
        "colab": {
          "base_uri": "https://localhost:8080/",
          "height": 35
        },
        "outputId": "0f07ae98-dd1b-408e-8c47-83ab34ee8a06"
      },
      "source": [
        "# 단어의 빈도 수 대로 낮은 정수 인덱스 부여\n",
        "word_to_index = {}\n",
        "i = 0\n",
        "for (word, frequency) in vocab:\n",
        "  i += 1\n",
        "  word_to_index[word] = i\n",
        "print(word_to_index)"
      ],
      "execution_count": 12,
      "outputs": [
        {
          "output_type": "stream",
          "text": [
            "{'barber': 1, 'secret': 2, 'huge': 3, 'kept': 4, 'person': 5}\n"
          ],
          "name": "stdout"
        }
      ]
    },
    {
      "cell_type": "markdown",
      "metadata": {
        "id": "Rfr641U3Z8P4",
        "colab_type": "text"
      },
      "source": [
        "# NLTK의 FreqDist 사용 \n",
        "=> Counter()와 방법 동일"
      ]
    },
    {
      "cell_type": "code",
      "metadata": {
        "id": "BwMuOSFoZwJ3",
        "colab_type": "code",
        "colab": {
          "base_uri": "https://localhost:8080/",
          "height": 107
        },
        "outputId": "598d9f18-d24e-4a1c-c5b3-d515b58bf4da"
      },
      "source": [
        "from nltk import FreqDist\n",
        "import numpy as np\n",
        "ex1 = np.hstack(sentences)  # 상단의 sum(sentences, [])와 같은 역할\n",
        "print(ex1) "
      ],
      "execution_count": 15,
      "outputs": [
        {
          "output_type": "stream",
          "text": [
            "['barber' 'person' 'barber' 'good' 'person' 'barber' 'huge' 'person'\n",
            " 'knew' 'secret' 'secret' 'kept' 'huge' 'secret' 'huge' 'secret' 'barber'\n",
            " 'kept' 'word' 'barber' 'kept' 'word' 'barber' 'kept' 'secret' 'keeping'\n",
            " 'keeping' 'huge' 'secret' 'driving' 'barber' 'crazy' 'barber' 'went'\n",
            " 'huge' 'mountain']\n"
          ],
          "name": "stdout"
        }
      ]
    },
    {
      "cell_type": "code",
      "metadata": {
        "id": "NDmZt2LoaZeR",
        "colab_type": "code",
        "colab": {
          "base_uri": "https://localhost:8080/",
          "height": 35
        },
        "outputId": "2fa2d65f-3fac-4100-a954-ad91b6c4f62e"
      },
      "source": [
        "vocab = FreqDist(ex1) # NLTK의 빈도수 계산 도구\n",
        "print(vocab[\"barber\"])"
      ],
      "execution_count": 17,
      "outputs": [
        {
          "output_type": "stream",
          "text": [
            "8\n"
          ],
          "name": "stdout"
        }
      ]
    },
    {
      "cell_type": "code",
      "metadata": {
        "id": "u1QBk0LNasQ9",
        "colab_type": "code",
        "colab": {
          "base_uri": "https://localhost:8080/",
          "height": 35
        },
        "outputId": "34ff6097-8325-4624-84af-932697551dfc"
      },
      "source": [
        "vocab_size = 5\n",
        "vocab = vocab.most_common(vocab_size)\n",
        "vocab"
      ],
      "execution_count": 18,
      "outputs": [
        {
          "output_type": "execute_result",
          "data": {
            "text/plain": [
              "[('barber', 8), ('secret', 6), ('huge', 5), ('kept', 4), ('person', 3)]"
            ]
          },
          "metadata": {
            "tags": []
          },
          "execution_count": 18
        }
      ]
    },
    {
      "cell_type": "code",
      "metadata": {
        "id": "8E5gkeWvbC23",
        "colab_type": "code",
        "colab": {
          "base_uri": "https://localhost:8080/",
          "height": 35
        },
        "outputId": "dee5c675-6167-4eeb-9f76-d0ee41ae22c3"
      },
      "source": [
        "# 마찬가지로 단어 빈도 수 대로 낮은 정수 인덱스 부여\n",
        "word_to_index = {word[0] : index + 1 for index, word in enumerate(vocab)}\n",
        "print(word_to_index)"
      ],
      "execution_count": 19,
      "outputs": [
        {
          "output_type": "stream",
          "text": [
            "{'barber': 1, 'secret': 2, 'huge': 3, 'kept': 4, 'person': 5}\n"
          ],
          "name": "stdout"
        }
      ]
    },
    {
      "cell_type": "markdown",
      "metadata": {
        "id": "P4YXyFt5bw-n",
        "colab_type": "text"
      },
      "source": [
        "# Keras의 text preprocessing\n",
        "=> 간혹 정수 인코딩을 위해 ㅔ라스의 토크나이저를 사용하기도 함"
      ]
    },
    {
      "cell_type": "code",
      "metadata": {
        "id": "VK_OoPi9bbCh",
        "colab_type": "code",
        "colab": {
          "base_uri": "https://localhost:8080/",
          "height": 55
        },
        "outputId": "560442b6-e645-431e-eee7-270698dc4211"
      },
      "source": [
        "from tensorflow.keras.preprocessing.text import Tokenizer\n",
        "print(sentences)"
      ],
      "execution_count": 20,
      "outputs": [
        {
          "output_type": "stream",
          "text": [
            "[['barber', 'person'], ['barber', 'good', 'person'], ['barber', 'huge', 'person'], ['knew', 'secret'], ['secret', 'kept', 'huge', 'secret'], ['huge', 'secret'], ['barber', 'kept', 'word'], ['barber', 'kept', 'word'], ['barber', 'kept', 'secret'], ['keeping', 'keeping', 'huge', 'secret', 'driving', 'barber', 'crazy'], ['barber', 'went', 'huge', 'mountain']]\n"
          ],
          "name": "stdout"
        }
      ]
    },
    {
      "cell_type": "code",
      "metadata": {
        "id": "M0xR9fi6cBQv",
        "colab_type": "code",
        "colab": {}
      },
      "source": [
        "tokenizer = Tokenizer()\n",
        "# fit_on_texts에 데이터 전달 시 빈도 수를 기준으로 한 내림차순으로 정수 인덱스 부여\n",
        "tokenizer.fit_on_texts(sentences)"
      ],
      "execution_count": 0,
      "outputs": []
    },
    {
      "cell_type": "code",
      "metadata": {
        "id": "5Re5xPtrcX6-",
        "colab_type": "code",
        "colab": {
          "base_uri": "https://localhost:8080/",
          "height": 55
        },
        "outputId": "f443c4aa-ea89-4f6e-fade-278051c416d8"
      },
      "source": [
        "# 인덱스가 어떻게 되었는지 확인\n",
        "print(tokenizer.word_index)"
      ],
      "execution_count": 22,
      "outputs": [
        {
          "output_type": "stream",
          "text": [
            "{'barber': 1, 'secret': 2, 'huge': 3, 'kept': 4, 'person': 5, 'word': 6, 'keeping': 7, 'good': 8, 'knew': 9, 'driving': 10, 'crazy': 11, 'went': 12, 'mountain': 13}\n"
          ],
          "name": "stdout"
        }
      ]
    },
    {
      "cell_type": "code",
      "metadata": {
        "id": "I4qY_p5Adz-h",
        "colab_type": "code",
        "colab": {
          "base_uri": "https://localhost:8080/",
          "height": 55
        },
        "outputId": "e4f9f0a3-5da6-4679-ad24-ef83480995d9"
      },
      "source": [
        "# 각 단어 카운트 수행 시 개수 확인\n",
        "print(tokenizer.word_counts)"
      ],
      "execution_count": 28,
      "outputs": [
        {
          "output_type": "stream",
          "text": [
            "OrderedDict([('barber', 8), ('person', 3), ('good', 1), ('huge', 5), ('knew', 1), ('secret', 6), ('kept', 4), ('word', 2), ('keeping', 2), ('driving', 1), ('crazy', 1), ('went', 1), ('mountain', 1)])\n"
          ],
          "name": "stdout"
        }
      ]
    },
    {
      "cell_type": "code",
      "metadata": {
        "id": "bQl_BTIgd1Ch",
        "colab_type": "code",
        "colab": {
          "base_uri": "https://localhost:8080/",
          "height": 55
        },
        "outputId": "13da23f6-0893-413f-d6da-4282f5d099b4"
      },
      "source": [
        "# 입력으로 들어온 데이터에 대해 각 단어를 이미 정해진 인덱스로 변환\n",
        "print(tokenizer.texts_to_sequences(sentences))"
      ],
      "execution_count": 29,
      "outputs": [
        {
          "output_type": "stream",
          "text": [
            "[[1, 5], [1, 8, 5], [1, 3, 5], [9, 2], [2, 4, 3, 2], [3, 2], [1, 4, 6], [1, 4, 6], [1, 4, 2], [7, 7, 3, 2, 10, 1, 11], [1, 12, 3, 13]]\n"
          ],
          "name": "stdout"
        }
      ]
    },
    {
      "cell_type": "code",
      "metadata": {
        "id": "3G5hHwYnexve",
        "colab_type": "code",
        "colab": {}
      },
      "source": [
        "# 상위 5개 단어만 뽑아내기\n",
        "vocab_size = 5\n",
        "tokenizer = Tokenizer(num_words = vocab_size + 1) # num_words는 숫자를 0부터 카운트,\n",
        "# 5를 넣으면 0~4 => 1번에서 4번 단어만 남게 됨, 이를 방지하기 위해\n",
        "tokenizer.fit_on_texts(sentences)"
      ],
      "execution_count": 0,
      "outputs": []
    },
    {
      "cell_type": "code",
      "metadata": {
        "id": "yb2Wo8KUoaZl",
        "colab_type": "code",
        "colab": {
          "base_uri": "https://localhost:8080/",
          "height": 55
        },
        "outputId": "3588245d-0fd1-443e-a560-865ce8f5d29a"
      },
      "source": [
        "print(tokenizer.word_index) # 13개가 다 나옴"
      ],
      "execution_count": 32,
      "outputs": [
        {
          "output_type": "stream",
          "text": [
            "{'barber': 1, 'secret': 2, 'huge': 3, 'kept': 4, 'person': 5, 'word': 6, 'keeping': 7, 'good': 8, 'knew': 9, 'driving': 10, 'crazy': 11, 'went': 12, 'mountain': 13}\n"
          ],
          "name": "stdout"
        }
      ]
    },
    {
      "cell_type": "code",
      "metadata": {
        "id": "PnjbhsR2ouil",
        "colab_type": "code",
        "colab": {
          "base_uri": "https://localhost:8080/",
          "height": 55
        },
        "outputId": "94e7344b-e252-46f6-b39d-3564ef84027b"
      },
      "source": [
        "print(tokenizer.word_counts) # 또 13개.."
      ],
      "execution_count": 33,
      "outputs": [
        {
          "output_type": "stream",
          "text": [
            "OrderedDict([('barber', 8), ('person', 3), ('good', 1), ('huge', 5), ('knew', 1), ('secret', 6), ('kept', 4), ('word', 2), ('keeping', 2), ('driving', 1), ('crazy', 1), ('went', 1), ('mountain', 1)])\n"
          ],
          "name": "stdout"
        }
      ]
    },
    {
      "cell_type": "code",
      "metadata": {
        "id": "j25neT3FqSKB",
        "colab_type": "code",
        "colab": {
          "base_uri": "https://localhost:8080/",
          "height": 55
        },
        "outputId": "11a11213-7376-4abd-caf0-e4f564055229"
      },
      "source": [
        "# 실제 적용은 texts_to_sequences 사용 때 적용된다고 함\n",
        "print(tokenizer.texts_to_sequences(sentences))\n",
        "# 상위 5개단어만 쓰겠다고 했으므로 6번 이후로는 전부 제거되었음"
      ],
      "execution_count": 34,
      "outputs": [
        {
          "output_type": "stream",
          "text": [
            "[[1, 5], [1, 5], [1, 3, 5], [2], [2, 4, 3, 2], [3, 2], [1, 4], [1, 4], [1, 4, 2], [3, 2, 1], [1, 3]]\n"
          ],
          "name": "stdout"
        }
      ]
    },
    {
      "cell_type": "markdown",
      "metadata": {
        "id": "IxSJhUbUtrxX",
        "colab_type": "text"
      },
      "source": [
        "=> 케라스 토크나이저는 기본적으로 oov에 대해서는 인코딩 과정에서 아예 단어를 지워버림 </br>\n",
        "=> 리스트에 없어도 oov로 간주 후 보존하고 싶다면 인자 oov_token을 사용"
      ]
    },
    {
      "cell_type": "code",
      "metadata": {
        "id": "N5Xp2z-HrwZs",
        "colab_type": "code",
        "colab": {}
      },
      "source": [
        "vocab_size = 5\n",
        "tokenizer = Tokenizer(num_words = vocab_size + 2, oov_token = 'OOV') # 숫자 0과 oov를 고려해 단어 집합 크기 + 2\n",
        "tokenizer.fit_on_texts(sentences)"
      ],
      "execution_count": 0,
      "outputs": []
    },
    {
      "cell_type": "code",
      "metadata": {
        "id": "Vw21rajCukGW",
        "colab_type": "code",
        "colab": {
          "base_uri": "https://localhost:8080/",
          "height": 35
        },
        "outputId": "c129b418-d881-447e-f022-303673df88d7"
      },
      "source": [
        "# oov_token 사용시 케라스 토크나이저에서 'OOV'의 인덱스 디폴트값은 1\n",
        "print('단어 oov의 인덱스 : {}'.format(tokenizer.word_index['OOV']))"
      ],
      "execution_count": 36,
      "outputs": [
        {
          "output_type": "stream",
          "text": [
            "단어 oov의 인덱스 : 1\n"
          ],
          "name": "stdout"
        }
      ]
    },
    {
      "cell_type": "code",
      "metadata": {
        "id": "c2Zf591husOI",
        "colab_type": "code",
        "colab": {
          "base_uri": "https://localhost:8080/",
          "height": 55
        },
        "outputId": "069fcd0a-47d0-4e17-9627-9550b3953afa"
      },
      "source": [
        "print(tokenizer.texts_to_sequences(sentences))"
      ],
      "execution_count": 37,
      "outputs": [
        {
          "output_type": "stream",
          "text": [
            "[[2, 6], [2, 1, 6], [2, 4, 6], [1, 3], [3, 5, 4, 3], [4, 3], [2, 5, 1], [2, 5, 1], [2, 5, 3], [1, 1, 4, 3, 1, 2, 1], [2, 1, 4, 1]]\n"
          ],
          "name": "stdout"
        }
      ]
    },
    {
      "cell_type": "code",
      "metadata": {
        "id": "Zbd9Zb8ou5_u",
        "colab_type": "code",
        "colab": {}
      },
      "source": [
        ""
      ],
      "execution_count": 0,
      "outputs": []
    }
  ]
}