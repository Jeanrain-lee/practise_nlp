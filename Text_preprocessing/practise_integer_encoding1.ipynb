{
  "nbformat": 4,
  "nbformat_minor": 0,
  "metadata": {
    "colab": {
      "name": "practise_integer_encoding1.ipynb",
      "provenance": [],
      "authorship_tag": "ABX9TyP/7N0vboCvZDiK+IYmVm7p",
      "include_colab_link": true
    },
    "kernelspec": {
      "name": "python3",
      "display_name": "Python 3"
    }
  },
  "cells": [
    {
      "cell_type": "markdown",
      "metadata": {
        "id": "view-in-github",
        "colab_type": "text"
      },
      "source": [
        "<a href=\"https://colab.research.google.com/github/Jeanrain-lee/practise_nlp/blob/master/practise_integer_encoding1.ipynb\" target=\"_parent\"><img src=\"https://colab.research.google.com/assets/colab-badge.svg\" alt=\"Open In Colab\"/></a>"
      ]
    },
    {
      "cell_type": "markdown",
      "metadata": {
        "id": "QPzMrMUSIowC",
        "colab_type": "text"
      },
      "source": [
        "참조 :: https://wikidocs.net/31766"
      ]
    },
    {
      "cell_type": "markdown",
      "metadata": {
        "id": "u58B1iKyHH1d",
        "colab_type": "text"
      },
      "source": [
        "˙ 컴퓨터는 텍스트보다 숫자 처리에 능함 </br>\n",
        "=> 텍스트를 숫자로 바꾸는 여러 기법 존재, 방법들을 적용시키기 위해 각 단어를 고유 숫자에 mapping 시키는 전처리작업이 필요할 수도 </br>\n",
        "=> 랜덤으로 숫자를 부여하기도 하지만 보통은 빈도수가 높은 단어들만 사용하기 위해 단어에 대한 빈도수를 기준으로 정렬한 뒤 부여\n"
      ]
    },
    {
      "cell_type": "markdown",
      "metadata": {
        "id": "8AosKk23IGIH",
        "colab_type": "text"
      },
      "source": [
        "# 정수 인코딩 (Integer Encoding)"
      ]
    },
    {
      "cell_type": "code",
      "metadata": {
        "id": "rpaKvhIzGavW",
        "colab_type": "code",
        "colab": {}
      },
      "source": [
        "from nltk.tokenize import sent_tokenize\n",
        "from nltk.tokenize import word_tokenize\n",
        "from nltk.corpus import stopwords"
      ],
      "execution_count": 0,
      "outputs": []
    },
    {
      "cell_type": "code",
      "metadata": {
        "id": "D_4AsbI-I932",
        "colab_type": "code",
        "colab": {
          "base_uri": "https://localhost:8080/",
          "height": 107
        },
        "outputId": "057d0327-5479-438b-c75e-9617803825f9"
      },
      "source": [
        "import nltk\n",
        "nltk.download('punkt')\n",
        "nltk.download('stopwords')"
      ],
      "execution_count": 19,
      "outputs": [
        {
          "output_type": "stream",
          "text": [
            "[nltk_data] Downloading package punkt to /root/nltk_data...\n",
            "[nltk_data]   Package punkt is already up-to-date!\n",
            "[nltk_data] Downloading package stopwords to /root/nltk_data...\n",
            "[nltk_data]   Package stopwords is already up-to-date!\n"
          ],
          "name": "stdout"
        },
        {
          "output_type": "execute_result",
          "data": {
            "text/plain": [
              "True"
            ]
          },
          "metadata": {
            "tags": []
          },
          "execution_count": 19
        }
      ]
    },
    {
      "cell_type": "code",
      "metadata": {
        "id": "IINO_YpGIgPL",
        "colab_type": "code",
        "colab": {}
      },
      "source": [
        "text = \"A barber is a person. a barber is good person. a barber is huge person. he Knew A Secret! The Secret He Kept is huge secret. Huge secret. His barber kept his word. a barber kept his word. His barber kept his secret. But keeping and keeping such a huge secret to himself was driving the barber crazy. the barber went up a huge mountain.\""
      ],
      "execution_count": 0,
      "outputs": []
    },
    {
      "cell_type": "code",
      "metadata": {
        "id": "_CDC9vLRIuoQ",
        "colab_type": "code",
        "colab": {
          "base_uri": "https://localhost:8080/",
          "height": 55
        },
        "outputId": "0cca8b34-37e2-4a77-cccf-0b765e089391"
      },
      "source": [
        "# 문장 토큰화\n",
        "text = sent_tokenize(text)\n",
        "print(text)"
      ],
      "execution_count": 21,
      "outputs": [
        {
          "output_type": "stream",
          "text": [
            "['A barber is a person.', 'a barber is good person.', 'a barber is huge person.', 'he Knew A Secret!', 'The Secret He Kept is huge secret.', 'Huge secret.', 'His barber kept his word.', 'a barber kept his word.', 'His barber kept his secret.', 'But keeping and keeping such a huge secret to himself was driving the barber crazy.', 'the barber went up a huge mountain.']\n"
          ],
          "name": "stdout"
        }
      ]
    },
    {
      "cell_type": "code",
      "metadata": {
        "id": "U7nSXQcdI4Zv",
        "colab_type": "code",
        "colab": {
          "base_uri": "https://localhost:8080/",
          "height": 55
        },
        "outputId": "f056f592-1c71-4a1a-96ff-d3694ced01da"
      },
      "source": [
        "# 문장으로 토큰화된 텍스트를 단어 토큰화로 쪼개기\n",
        "# 정제 작업도 병행\n",
        "vocab = {}\n",
        "sentences = []\n",
        "stop_words = set(stopwords.words('english'))\n",
        "\n",
        "for i in text:\n",
        "  sentence = word_tokenize(i)\n",
        "  result = []\n",
        "\n",
        "  for word in sentence:\n",
        "    word = word.lower()\n",
        "    if word not in stop_words:  # 불용어라면 제거 \n",
        "      if len(word) > 2: # 길이가 짧은 단어 제거\n",
        "        result.append(word)\n",
        "        if word not in vocab:\n",
        "          vocab[word] = 0\n",
        "        vocab[word] += 1\n",
        "  sentences.append(result)\n",
        "print(sentences)"
      ],
      "execution_count": 22,
      "outputs": [
        {
          "output_type": "stream",
          "text": [
            "[['barber', 'person'], ['barber', 'good', 'person'], ['barber', 'huge', 'person'], ['knew', 'secret'], ['secret', 'kept', 'huge', 'secret'], ['huge', 'secret'], ['barber', 'kept', 'word'], ['barber', 'kept', 'word'], ['barber', 'kept', 'secret'], ['keeping', 'keeping', 'huge', 'secret', 'driving', 'barber', 'crazy'], ['barber', 'went', 'huge', 'mountain']]\n"
          ],
          "name": "stdout"
        }
      ]
    },
    {
      "cell_type": "markdown",
      "metadata": {
        "id": "U2B0_eLLSjKM",
        "colab_type": "text"
      },
      "source": [
        "˙ 텍스트를 숫자로 변환하기 전 단어가 텍스트일 때만 가능한 최대한의 전처리 끝내야"
      ]
    },
    {
      "cell_type": "code",
      "metadata": {
        "id": "bY6n1qJMO8xB",
        "colab_type": "code",
        "colab": {
          "base_uri": "https://localhost:8080/",
          "height": 53
        },
        "outputId": "2ab4b555-873f-4454-a38a-cf249050b858"
      },
      "source": [
        "print(vocab)\n",
        "print(vocab[\"barber\"])"
      ],
      "execution_count": 23,
      "outputs": [
        {
          "output_type": "stream",
          "text": [
            "{'barber': 8, 'person': 3, 'good': 1, 'huge': 5, 'knew': 1, 'secret': 6, 'kept': 4, 'word': 2, 'keeping': 2, 'driving': 1, 'crazy': 1, 'went': 1, 'mountain': 1}\n",
            "8\n"
          ],
          "name": "stdout"
        }
      ]
    },
    {
      "cell_type": "code",
      "metadata": {
        "id": "bSGvuQdbTdSh",
        "colab_type": "code",
        "colab": {
          "base_uri": "https://localhost:8080/",
          "height": 55
        },
        "outputId": "1d8fccbd-5056-4529-d7b3-5009fa6c5869"
      },
      "source": [
        "vocab_sorted = sorted(vocab.items(), key = lambda x:x[1], reverse=True)\n",
        "print(vocab_sorted)"
      ],
      "execution_count": 24,
      "outputs": [
        {
          "output_type": "stream",
          "text": [
            "[('barber', 8), ('secret', 6), ('huge', 5), ('kept', 4), ('person', 3), ('word', 2), ('keeping', 2), ('good', 1), ('knew', 1), ('driving', 1), ('crazy', 1), ('went', 1), ('mountain', 1)]\n"
          ],
          "name": "stdout"
        }
      ]
    },
    {
      "cell_type": "code",
      "metadata": {
        "id": "E9--PNzXUw-u",
        "colab_type": "code",
        "colab": {
          "base_uri": "https://localhost:8080/",
          "height": 35
        },
        "outputId": "ecef9427-3b64-4dda-f243-8340782578eb"
      },
      "source": [
        "# 빈도수가 높을 수록 낮은 정수 인덱스 부여\n",
        "word_to_index = {}\n",
        "i=0\n",
        "for (word, frequency) in vocab_sorted :\n",
        "  if frequency > 1: # 빈도수 낮은 단어는 처음부터 제외\n",
        "    i += 1\n",
        "    word_to_index[word] = i\n",
        "print(word_to_index)"
      ],
      "execution_count": 25,
      "outputs": [
        {
          "output_type": "stream",
          "text": [
            "{'barber': 1, 'secret': 2, 'huge': 3, 'kept': 4, 'person': 5, 'word': 6, 'keeping': 7}\n"
          ],
          "name": "stdout"
        }
      ]
    },
    {
      "cell_type": "code",
      "metadata": {
        "id": "o4xlLTyaWk8W",
        "colab_type": "code",
        "colab": {}
      },
      "source": [
        "# 빈도수 상의 n개만 사용하고 싶을 때 (예를 들어 5개만 쓰고 싶다)\n",
        "vocab_size = 5\n",
        "words_frequency = [w for w,c in word_to_index.items() if c >= vocab_size + 1]\n",
        "\n",
        "for w in words_frequency:\n",
        "  del word_to_index[w]"
      ],
      "execution_count": 0,
      "outputs": []
    },
    {
      "cell_type": "code",
      "metadata": {
        "id": "n3AQGJv5ZrUe",
        "colab_type": "code",
        "colab": {}
      },
      "source": [
        "# word_to_index에 저장된 3개의 단어를 sentence에서 정수로 바꾸기\n",
        "# 이 때 단어 집합에 없는 단어를 Out-Of-Vocabulary(OOV)라고 부름\n",
        "word_to_index['OOV'] = len(word_to_index) + 1"
      ],
      "execution_count": 0,
      "outputs": []
    },
    {
      "cell_type": "code",
      "metadata": {
        "id": "HAO473dAcGS6",
        "colab_type": "code",
        "colab": {
          "base_uri": "https://localhost:8080/",
          "height": 55
        },
        "outputId": "dbd27b83-3cbf-41b8-cebf-dd151940c365"
      },
      "source": [
        "encoded = []\n",
        "for s in sentences:\n",
        "  temp=[]\n",
        "  for w in s:\n",
        "    try:\n",
        "      temp.append(word_to_index[w])\n",
        "    except KeyError:\n",
        "      temp.append(word_to_index['OOV'])\n",
        "    encoded.append(temp)\n",
        "print(encoded)"
      ],
      "execution_count": 29,
      "outputs": [
        {
          "output_type": "stream",
          "text": [
            "[[1, 5], [1, 5], [1, 7, 5], [1, 7, 5], [1, 7, 5], [1, 3, 5], [1, 3, 5], [1, 3, 5], [7, 2], [7, 2], [2, 4, 3, 2], [2, 4, 3, 2], [2, 4, 3, 2], [2, 4, 3, 2], [3, 2], [3, 2], [1, 4, 7], [1, 4, 7], [1, 4, 7], [1, 4, 7], [1, 4, 7], [1, 4, 7], [1, 4, 2], [1, 4, 2], [1, 4, 2], [7, 7, 3, 2, 7, 1, 7], [7, 7, 3, 2, 7, 1, 7], [7, 7, 3, 2, 7, 1, 7], [7, 7, 3, 2, 7, 1, 7], [7, 7, 3, 2, 7, 1, 7], [7, 7, 3, 2, 7, 1, 7], [7, 7, 3, 2, 7, 1, 7], [1, 7, 3, 7], [1, 7, 3, 7], [1, 7, 3, 7], [1, 7, 3, 7]]\n"
          ],
          "name": "stdout"
        }
      ]
    }
  ]
}