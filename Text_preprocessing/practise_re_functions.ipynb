{
  "nbformat": 4,
  "nbformat_minor": 0,
  "metadata": {
    "colab": {
      "name": "practise_re_functions.ipynb",
      "provenance": [],
      "collapsed_sections": [],
      "authorship_tag": "ABX9TyN9iYkpHtPd3TZd1VTDLAxs"
    },
    "kernelspec": {
      "name": "python3",
      "display_name": "Python 3"
    }
  },
  "cells": [
    {
      "cell_type": "markdown",
      "metadata": {
        "id": "oWraSTJAoJXl",
        "colab_type": "text"
      },
      "source": [
        "practise_regular_expression 이어서 학습 </br>\n",
        "참조 :: https://wikidocs.net/21703 "
      ]
    },
    {
      "cell_type": "code",
      "metadata": {
        "id": "PbhQayBnoFQc",
        "colab_type": "code",
        "colab": {
          "base_uri": "https://localhost:8080/",
          "height": 35
        },
        "outputId": "132320b7-b8b1-44d5-ff71-db8cd2e6ca74"
      },
      "source": [
        "  # re.match() => 문자열의 시작부터 매치 확인 | re.search() => re 전체에서 문자열 매치 확인\n",
        "  import re\n",
        "  r=re.compile(\"ab.\")\n",
        "  r.search(\"kkkabc\")"
      ],
      "execution_count": 1,
      "outputs": [
        {
          "output_type": "execute_result",
          "data": {
            "text/plain": [
              "<_sre.SRE_Match object; span=(3, 6), match='abc'>"
            ]
          },
          "metadata": {
            "tags": []
          },
          "execution_count": 1
        }
      ]
    },
    {
      "cell_type": "code",
      "metadata": {
        "id": "3w2S907-kspE",
        "colab_type": "code",
        "colab": {}
      },
      "source": [
        "r.match(\"kkkabc\")"
      ],
      "execution_count": 0,
      "outputs": []
    },
    {
      "cell_type": "code",
      "metadata": {
        "id": "mCGEVl6alCrE",
        "colab_type": "code",
        "colab": {
          "base_uri": "https://localhost:8080/",
          "height": 35
        },
        "outputId": "e6064f73-f4e4-4d5c-c6f6-cd55aec6fb11"
      },
      "source": [
        "r.match(\"abcccc\")"
      ],
      "execution_count": 3,
      "outputs": [
        {
          "output_type": "execute_result",
          "data": {
            "text/plain": [
              "<_sre.SRE_Match object; span=(0, 3), match='abc'>"
            ]
          },
          "metadata": {
            "tags": []
          },
          "execution_count": 3
        }
      ]
    },
    {
      "cell_type": "code",
      "metadata": {
        "id": "Af9GEehfq-dU",
        "colab_type": "code",
        "outputId": "44b2175f-5a25-46ff-eba0-788561a6b1ea",
        "colab": {
          "base_uri": "https://localhost:8080/",
          "height": 35
        }
      },
      "source": [
        "# re.split()\n",
        "# 입력된 re 기준으로 문자열 분리 후 리스트 리턴\n",
        "# 토큰화에 잘 사용\n",
        "text=\"안경 책 커피 스마트폰 아이패드 필통\"\n",
        "re.split(\" \", text)"
      ],
      "execution_count": 4,
      "outputs": [
        {
          "output_type": "execute_result",
          "data": {
            "text/plain": [
              "['안경', '책', '커피', '스마트폰', '아이패드', '필통']"
            ]
          },
          "metadata": {
            "tags": []
          },
          "execution_count": 4
        }
      ]
    },
    {
      "cell_type": "code",
      "metadata": {
        "id": "jEXt9UyYrFhR",
        "colab_type": "code",
        "outputId": "a479ecd6-c24a-4946-d990-0375e53805ba",
        "colab": {
          "base_uri": "https://localhost:8080/",
          "height": 35
        }
      },
      "source": [
        "texts=\"\"\"안경 \n",
        "책 \n",
        "커피 \n",
        "스마트폰\n",
        "아이패드\n",
        "필통\"\"\"\n",
        "re.split(\"\\n\", texts)"
      ],
      "execution_count": 6,
      "outputs": [
        {
          "output_type": "execute_result",
          "data": {
            "text/plain": [
              "['안경 ', '책 ', '커피 ', '스마트폰', '아이패드', '필통']"
            ]
          },
          "metadata": {
            "tags": []
          },
          "execution_count": 6
        }
      ]
    },
    {
      "cell_type": "code",
      "metadata": {
        "id": "1-s3GkgprLO6",
        "colab_type": "code",
        "colab": {
          "base_uri": "https://localhost:8080/",
          "height": 35
        },
        "outputId": "d39805e7-c4f1-49d4-9dfe-1ffa6f02978d"
      },
      "source": [
        "# re.findall()\n",
        "# re와 매치되는 모든 문자열 리턴 | 매치되는 게 없으면 빈 결과값 리턴\n",
        "text = \"\"\"이름 : 안알려쥼\n",
        "전화번호 :010 - 0000 - 0000\n",
        "나이 : 100\"\"\"\n",
        "re.findall(\"\\d+\", text)"
      ],
      "execution_count": 9,
      "outputs": [
        {
          "output_type": "execute_result",
          "data": {
            "text/plain": [
              "['010', '0000', '0000', '100']"
            ]
          },
          "metadata": {
            "tags": []
          },
          "execution_count": 9
        }
      ]
    },
    {
      "cell_type": "code",
      "metadata": {
        "id": "56agIGdAsQsE",
        "colab_type": "code",
        "outputId": "1af5ba17-1324-4cc0-9a68-fb949cd99bf6",
        "colab": {
          "base_uri": "https://localhost:8080/",
          "height": 55
        }
      },
      "source": [
        "# re.sub()\n",
        "# re 패턴과 일치하는 문자열을 찾아 다른 문자열로 대체\n",
        "# [^a-zA-Z] : 알파벳 소문자나 대문자 이외의 문자 중 하나\n",
        "text=\"Regular expression : A regular expression, regex or regexp[1] (sometimes called a rational expression)[2][3] is, in theoretical computer science and formal language theory, a sequence of characters that define a search pattern.\"\n",
        "re.sub('[^a-zA-Z]', ' ', text)"
      ],
      "execution_count": 10,
      "outputs": [
        {
          "output_type": "execute_result",
          "data": {
            "text/plain": [
              "'Regular expression   A regular expression  regex or regexp     sometimes called a rational expression        is  in theoretical computer science and formal language theory  a sequence of characters that define a search pattern '"
            ]
          },
          "metadata": {
            "tags": []
          },
          "execution_count": 10
        }
      ]
    },
    {
      "cell_type": "markdown",
      "metadata": {
        "id": "-hfIX19JQ84n",
        "colab_type": "text"
      },
      "source": [
        "# RE를 사용한 텍스트 전처리 튜토리얼"
      ]
    },
    {
      "cell_type": "code",
      "metadata": {
        "id": "SIowc5NdsSyS",
        "colab_type": "code",
        "outputId": "8d9c4021-3151-4691-abe0-5a23ff441462",
        "colab": {
          "base_uri": "https://localhost:8080/",
          "height": 35
        }
      },
      "source": [
        "text = \"\"\"100 John PROF\n",
        "101 Zeze Teacher\n",
        "102 Jean STUD \"\"\"\n",
        "re.split('\\s+', text) # 공백을 제외한 문자"
      ],
      "execution_count": 11,
      "outputs": [
        {
          "output_type": "execute_result",
          "data": {
            "text/plain": [
              "['100', 'John', 'PROF', '101', 'Zeze', 'Teacher', '102', 'Jean', 'STUD', '']"
            ]
          },
          "metadata": {
            "tags": []
          },
          "execution_count": 11
        }
      ]
    },
    {
      "cell_type": "markdown",
      "metadata": {
        "id": "vxUGr3jsSow1",
        "colab_type": "text"
      },
      "source": [
        "# RE를 이용한 토큰화 튜토리얼"
      ]
    },
    {
      "cell_type": "code",
      "metadata": {
        "id": "vDy4jXfPsW1n",
        "colab_type": "code",
        "colab": {
          "base_uri": "https://localhost:8080/",
          "height": 35
        },
        "outputId": "5606877e-dea1-467a-dbbf-2300113da6fc"
      },
      "source": [
        "# NLTK에서 RE를 사용해 토큰화 수행하는 RegexpTokenizer 지원\n",
        "# RegexpTokenizer() 안에 원하는 re를 넣어 토큰화 수행\n",
        "\n",
        "import nltk\n",
        "from nltk.tokenize import RegexpTokenizer\n",
        "tokenizer=RegexpTokenizer(\"[\\w]+\") #  [\\w] : 문자 또는 숫자\n",
        "print(tokenizer.tokenize(\"Don't be fooled by the dark sounding name, Mr. Jone's Orphanage is as cheery as cheery goes for a pastry shop\"))"
      ],
      "execution_count": 12,
      "outputs": [
        {
          "output_type": "stream",
          "text": [
            "['Don', 't', 'be', 'fooled', 'by', 'the', 'dark', 'sounding', 'name', 'Mr', 'Jone', 's', 'Orphanage', 'is', 'as', 'cheery', 'as', 'cheery', 'goes', 'for', 'a', 'pastry', 'shop']\n"
          ],
          "name": "stdout"
        }
      ]
    },
    {
      "cell_type": "code",
      "metadata": {
        "id": "7pPbUa-isnYJ",
        "colab_type": "code",
        "colab": {
          "base_uri": "https://localhost:8080/",
          "height": 35
        },
        "outputId": "c3ae8659-3bcf-4ec7-f300-ea4fa2c1ef87"
      },
      "source": [
        "# 토큰을 나누기 위한 기준을 입력할 수도 있음\n",
        "tokenizer=RegexpTokenizer(\"[\\s]+\", gaps=True) #[\\s] : 공백 #gaps=True : 해당 re를 기준으로 쓰겠다\n",
        "print(tokenizer.tokenize(\"Don't be fooled by the dark sounding name, Mr. Jone's Orphanage is as cheery as cheery goes for a pastry shop\"))"
      ],
      "execution_count": 13,
      "outputs": [
        {
          "output_type": "stream",
          "text": [
            "[\"Don't\", 'be', 'fooled', 'by', 'the', 'dark', 'sounding', 'name,', 'Mr.', \"Jone's\", 'Orphanage', 'is', 'as', 'cheery', 'as', 'cheery', 'goes', 'for', 'a', 'pastry', 'shop']\n"
          ],
          "name": "stdout"
        }
      ]
    },
    {
      "cell_type": "code",
      "metadata": {
        "id": "rNAO1E23VbtO",
        "colab_type": "code",
        "colab": {
          "base_uri": "https://localhost:8080/",
          "height": 35
        },
        "outputId": "e712edb0-3e56-4f27-8718-c05cf75b8805"
      },
      "source": [
        "tokenizer=RegexpTokenizer(\"[\\s]+\") #[\\s] : 공백 \n",
        "print(tokenizer.tokenize(\"Don't be fooled by the dark sounding name, Mr. Jone's Orphanage is as cheery as cheery goes for a pastry shop\"))"
      ],
      "execution_count": 14,
      "outputs": [
        {
          "output_type": "stream",
          "text": [
            "[' ', ' ', ' ', ' ', ' ', ' ', ' ', ' ', ' ', ' ', ' ', ' ', ' ', ' ', ' ', ' ', ' ', ' ', ' ', ' ']\n"
          ],
          "name": "stdout"
        }
      ]
    }
  ]
}